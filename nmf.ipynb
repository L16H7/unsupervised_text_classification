{
 "cells": [
  {
   "cell_type": "code",
   "execution_count": 7,
   "metadata": {},
   "outputs": [],
   "source": [
    "import pandas as pd\n",
    "import numpy as np\n",
    "from scipy.sparse import coo_matrix, csr_matrix"
   ]
  },
  {
   "cell_type": "code",
   "execution_count": 3,
   "metadata": {},
   "outputs": [],
   "source": [
    "MV_users = pd.read_csv('./movies_data/users.csv')\n",
    "MV_movies = pd.read_csv('./movies_data/movies.csv')\n",
    "train = pd.read_csv('./movies_data/train.csv')\n",
    "test = pd.read_csv('./movies_data/test.csv')"
   ]
  },
  {
   "cell_type": "code",
   "execution_count": 4,
   "metadata": {},
   "outputs": [],
   "source": [
    "from collections import namedtuple\n",
    "Data = namedtuple('Data', ['users','movies','train','test'])\n",
    "data = Data(MV_users, MV_movies, train, test)"
   ]
  },
  {
   "cell_type": "code",
   "execution_count": 9,
   "metadata": {},
   "outputs": [],
   "source": [
    "class RecSys():\n",
    "    def __init__(self,data):\n",
    "        self.data=data\n",
    "        self.allusers = list(self.data.users['uID'])\n",
    "        self.allmovies = list(self.data.movies['mID'])\n",
    "        self.genres = list(self.data.movies.columns.drop(['mID', 'title', 'year']))\n",
    "        self.mid2idx = dict(zip(self.data.movies.mID,list(range(len(self.data.movies)))))\n",
    "        self.uid2idx = dict(zip(self.data.users.uID,list(range(len(self.data.users)))))\n",
    "        self.Mr=self.rating_matrix()\n",
    "        self.Mm=None \n",
    "        self.sim=np.zeros((len(self.allmovies),len(self.allmovies)))\n",
    "        \n",
    "    def rating_matrix(self):\n",
    "        ind_movie = [self.mid2idx[x] for x in self.data.train.mID] \n",
    "        ind_user = [self.uid2idx[x] for x in self.data.train.uID]\n",
    "        rating_train = list(self.data.train.rating)\n",
    "        \n",
    "        return np.array(coo_matrix((rating_train, (ind_user, ind_movie)), shape=(len(self.allusers), len(self.allmovies))).toarray())\n",
    "\n",
    "        \n",
    "    def predict_from_sim(self,uid,mid):\n",
    "        user_ratings = self.Mr[self.uid2idx[uid]]\n",
    "        movie_similarities = self.sim[self.mid2idx[mid]]\n",
    "        \n",
    "        return np.dot(user_ratings, movie_similarities) / np.dot(movie_similarities, user_ratings > 0)\n",
    "    \n",
    "    def predict(self):        \n",
    "        return np.array(self.data.test.apply(lambda x: self.predict_from_sim(x['uID'], x['mID']), axis=1))\n",
    "    \n",
    "    def rmse(self,yp):\n",
    "        yp[np.isnan(yp)] = 3\n",
    "        yt = np.array(self.data.test.rating)\n",
    "        return np.sqrt(((yt - yp) ** 2).mean())\n"
   ]
  },
  {
   "cell_type": "code",
   "execution_count": 26,
   "metadata": {},
   "outputs": [],
   "source": [
    "from sklearn.decomposition import NMF\n",
    "\n",
    "class NMFRecommender(RecSys):    \n",
    "    def __init__(self, data, n_components=10):\n",
    "        super().__init__(data)\n",
    "        self.n_components = n_components\n",
    "        self.model = NMF(n_components=self.n_components)\n",
    "        self.user_matrix = []\n",
    "        self.item_matrix = []\n",
    "        \n",
    "    def fit(self):\n",
    "        W = self.model.fit_transform(self.Mr)\n",
    "        H = self.model.components_\n",
    "        self.user_matrix = W\n",
    "        self.item_matrix = H.T\n",
    "        \n",
    "    def predict_rating(self, uid, mid):\n",
    "        user_idx = self.uid2idx[uid]\n",
    "        movie_idx = self.mid2idx[mid]\n",
    "        user_vector = self.user_matrix[user_idx]\n",
    "        movie_vector = self.item_matrix[movie_idx]\n",
    "        return np.dot(user_vector, movie_vector)\n",
    "        \n",
    "    def predict(self):\n",
    "        return np.array([self.predict_rating(uid, mid) for uid, mid in zip(self.data.test.uID, self.data.test.mID)])\n"
   ]
  },
  {
   "cell_type": "code",
   "execution_count": 24,
   "metadata": {},
   "outputs": [
    {
     "name": "stderr",
     "output_type": "stream",
     "text": [
      "/home/light/anaconda3/envs/unsuper/lib/python3.9/site-packages/sklearn/decomposition/_nmf.py:1710: ConvergenceWarning: Maximum number of iterations 200 reached. Increase it to improve convergence.\n",
      "  warnings.warn(\n"
     ]
    }
   ],
   "source": [
    "nmf = NMFRecommender(data, n_components=20)\n",
    "nmf.fit()\n",
    "yp = nmf.predict()\n"
   ]
  },
  {
   "cell_type": "code",
   "execution_count": 25,
   "metadata": {},
   "outputs": [
    {
     "data": {
      "text/plain": [
       "2.861597419838157"
      ]
     },
     "execution_count": 25,
     "metadata": {},
     "output_type": "execute_result"
    }
   ],
   "source": [
    "nmf.rmse(yp)"
   ]
  },
  {
   "cell_type": "markdown",
   "metadata": {},
   "source": [
    "This RSME is a lot worse than our baseline models in HW3. I think it is because NMF doesn't work well with too sparse data like this. "
   ]
  },
  {
   "cell_type": "code",
   "execution_count": null,
   "metadata": {},
   "outputs": [],
   "source": []
  }
 ],
 "metadata": {
  "kernelspec": {
   "display_name": "unsuper",
   "language": "python",
   "name": "python3"
  },
  "language_info": {
   "codemirror_mode": {
    "name": "ipython",
    "version": 3
   },
   "file_extension": ".py",
   "mimetype": "text/x-python",
   "name": "python",
   "nbconvert_exporter": "python",
   "pygments_lexer": "ipython3",
   "version": "3.9.16"
  },
  "orig_nbformat": 4
 },
 "nbformat": 4,
 "nbformat_minor": 2
}
